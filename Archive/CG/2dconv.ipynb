{
    "cells": [
        {
            "cell_type": "code",
            "execution_count": 2,
            "source": [
                "from scipy import signal\n",
                "import numpy as np\n",
                "\n",
                "# input signal\n",
                "I = np.array([[4, 5, 6], [7, 8, 9]])\n",
                "print('I: ', I.shape)\n",
                "print(I)\n",
                "\n",
                "# filter\n",
                "F = np.array([[1], [1], [1]])\n",
                "print('F: ', F.shape)\n",
                "print(F)\n",
                "\n",
                "# number columns and rows of the input\n",
                "I_row_num, I_col_num = I.shape\n",
                "\n",
                "# number of columns and rows of the filter\n",
                "F_row_num, F_col_num = F.shape\n",
                "\n",
                "#  calculate the output dimensions\n",
                "output_row_num = I_row_num + F_row_num - 1\n",
                "output_col_num = I_col_num + F_col_num - 1\n",
                "print('output dimension:', output_row_num, output_col_num)\n",
                "\n",
                "\n",
                "lib_output = signal.convolve2d(I, F, \"full\")\n",
                "print('Result using signal processing library\\n', lib_output)"
            ],
            "outputs": [
                {
                    "output_type": "stream",
                    "name": "stdout",
                    "text": [
                        "I:  (2, 3)\n",
                        "[[4 5 6]\n",
                        " [7 8 9]]\n",
                        "F:  (3, 1)\n",
                        "[[1]\n",
                        " [1]\n",
                        " [1]]\n",
                        "output dimension: 4 3\n",
                        "Result using signal processing library\n",
                        " [[ 4  5  6]\n",
                        " [11 13 15]\n",
                        " [11 13 15]\n",
                        " [ 7  8  9]]\n"
                    ]
                }
            ],
            "metadata": {}
        }
    ],
    "metadata": {
        "orig_nbformat": 4,
        "language_info": {
            "name": "python",
            "version": "3.9.5",
            "mimetype": "text/x-python",
            "codemirror_mode": {
                "name": "ipython",
                "version": 3
            },
            "pygments_lexer": "ipython3",
            "nbconvert_exporter": "python",
            "file_extension": ".py"
        },
        "kernelspec": {
            "name": "python3",
            "display_name": "Python 3.9.5 64-bit"
        },
        "interpreter": {
            "hash": "31f2aee4e71d21fbe5cf8b01ff0e069b9275f58929596ceb00d14d90e3e16cd6"
        }
    },
    "nbformat": 4,
    "nbformat_minor": 2
}