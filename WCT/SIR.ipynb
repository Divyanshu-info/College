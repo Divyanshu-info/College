{
 "cells": [
  {
   "cell_type": "code",
   "execution_count": 28,
   "metadata": {},
   "outputs": [
    {
     "name": "stdout",
     "output_type": "stream",
     "text": [
      "[ 0  1  3  4  7  9 12 13 16 19 21 27 28 37 48]\n"
     ]
    },
    {
     "name": "stderr",
     "output_type": "stream",
     "text": [
      "/tmp/ipykernel_15454/1443098545.py:20: RuntimeWarning: divide by zero encountered in log10\n",
      "  SIR_db = np.log10(SIR)\n"
     ]
    },
    {
     "data": {
      "image/png": "[encoded data removed]",
      "text/plain": [
       "<Figure size 1152x864 with 1 Axes>"
      ]
     },
     "metadata": {
      "needs_background": "light"
     },
     "output_type": "display_data"
    }
   ],
   "source": [
    "import numpy as np\n",
    "import math\n",
    "import matplotlib.pyplot as plt\n",
    "\n",
    "\n",
    "n = 4\n",
    "\n",
    "N_array = []\n",
    "for i in range(5):\n",
    "    for j in range(5):\n",
    "        N_array.append(i**2 + j**2 + i*j)\n",
    "\n",
    "N_array = np.array(sorted(set(N_array)))\n",
    "print(N_array)\n",
    "\n",
    "q = np.sqrt(3*N_array)\n",
    "\n",
    "SIR = (q**n)/6\n",
    "\n",
    "SIR_db = np.log10(SIR)\n",
    "\n",
    "plt.subplot(4, 1, 1)\n",
    "plt.plot(N_array, SIR_db )\n",
    "plt.ylabel('Amplitude')\n",
    "plt.xlabel('Message signal')\n",
    "\n",
    "# carrier = A_c*np.cos(2*np.pi*f_c*t)\n",
    "# modulator = A_m*np.cos(2*np.pi*f_m*t)\n",
    "# product = A_c*(1+modulation_index*np.cos(2*np.pi*f_m*t))*np.cos(2*np.pi*f_c*t)\n",
    "\n",
    "\n",
    "\n",
    "\n",
    "# plt.subplot(4, 1, 2)\n",
    "# plt.plot(carrier, 'r')\n",
    "# plt.ylabel('Amplitude')\n",
    "# plt.xlabel('Carrier signal')\n",
    "\n",
    "# plt.subplot(4, 1, 3)\n",
    "# plt.plot(product, color=\"purple\")\n",
    "# plt.ylabel('Amplitude')\n",
    "# plt.xlabel('AM signal')\n",
    "\n",
    "# plt.subplot(4, 1, 4 )\n",
    "# plt.plot(xf, 2.0/N * np.abs(yf[0:N//2]), color=\"purple\")\n",
    "# plt.ylabel('Power')\n",
    "# plt.xlabel('Frequency')\n",
    "\n",
    "# plt.subplots_adjust(hspace=1)\n",
    "# plt.rc('font', size=15)\n",
    "fig = plt.gcf()\n",
    "fig.set_size_inches(16, 12)\n",
    "\n",
    "# fig.savefig('Amplitude Modulation.png', dpi=100)\n"
   ]
  }
 ],
 "metadata": {
  "interpreter": {
   "hash": "31f2aee4e71d21fbe5cf8b01ff0e069b9275f58929596ceb00d14d90e3e16cd6"
  },
  "kernelspec": {
   "display_name": "Python 3.9.7 64-bit",
   "language": "python",
   "name": "python3"
  },
  "language_info": {
   "codemirror_mode": {
    "name": "ipython",
    "version": 3
   },
   "file_extension": ".py",
   "mimetype": "text/x-python",
   "name": "python",
   "nbconvert_exporter": "python",
   "pygments_lexer": "ipython3",
   "version": "3.9.7"
  },
  "orig_nbformat": 4
 },
 "nbformat": 4,
 "nbformat_minor": 2
}
