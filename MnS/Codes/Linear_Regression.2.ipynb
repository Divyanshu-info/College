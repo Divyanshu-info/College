{
 "cells": [
  {
   "cell_type": "code",
   "execution_count": 1,
   "metadata": {},
   "outputs": [],
   "source": [
    "import numpy as np\n",
    "import pandas as pd\n",
    "mba_salary_df = pd.read_csv( 'MBA Salary1.csv' )\n"
   ]
  },
  {
   "cell_type": "code",
   "execution_count": 2,
   "metadata": {},
   "outputs": [],
   "source": [
    "import statsmodels.api as sm\n",
    "X = sm.add_constant(mba_salary_df['Percentage in Grade 10'])\n",
    "Y = mba_salary_df['Salary']\n"
   ]
  },
  {
   "cell_type": "code",
   "execution_count": 3,
   "metadata": {},
   "outputs": [],
   "source": [
    "from sklearn.model_selection import train_test_split\n",
    "train_X, test_X, train_y, test_y = train_test_split(X,\n",
    "                                                    Y,\n",
    "                                                    train_size=0.8,\n",
    "                                                    random_state=100)\n",
    "mba_salary_lm = sm.OLS(train_y, train_X).fit()\n"
   ]
  },
  {
   "cell_type": "code",
   "execution_count": 4,
   "metadata": {},
   "outputs": [
    {
     "data": {
      "text/html": [
       "<table class=\"simpletable\">\n",
       "<tr>\n",
       "        <td>Model:</td>               <td>OLS</td>         <td>Adj. R-squared:</td>      <td>0.992</td>  \n",
       "</tr>\n",
       "<tr>\n",
       "  <td>Dependent Variable:</td>      <td>Salary</td>             <td>AIC:</td>          <td>678.6997</td> \n",
       "</tr>\n",
       "<tr>\n",
       "         <td>Date:</td>        <td>2022-04-04 22:27</td>        <td>BIC:</td>          <td>682.0775</td> \n",
       "</tr>\n",
       "<tr>\n",
       "   <td>No. Observations:</td>         <td>40</td>          <td>Log-Likelihood:</td>     <td>-337.35</td> \n",
       "</tr>\n",
       "<tr>\n",
       "       <td>Df Model:</td>              <td>1</td>           <td>F-statistic:</td>        <td>4860.</td>  \n",
       "</tr>\n",
       "<tr>\n",
       "     <td>Df Residuals:</td>           <td>38</td>        <td>Prob (F-statistic):</td>  <td>1.04e-41</td> \n",
       "</tr>\n",
       "<tr>\n",
       "      <td>R-squared:</td>            <td>0.992</td>            <td>Scale:</td>        <td>1.3040e+06</td>\n",
       "</tr>\n",
       "</table>\n",
       "<table class=\"simpletable\">\n",
       "<tr>\n",
       "             <td></td>               <th>Coef.</th>   <th>Std.Err.</th>     <th>t</th>     <th>P>|t|</th>   <th>[0.025</th>     <th>0.975]</th>  \n",
       "</tr>\n",
       "<tr>\n",
       "  <th>const</th>                  <td>13051.7395</td> <td>1159.2202</td> <td>11.2591</td> <td>0.0000</td> <td>10705.0209</td> <td>15398.4580</td>\n",
       "</tr>\n",
       "<tr>\n",
       "  <th>Percentage in Grade 10</th>  <td>1255.9654</td>  <td>18.0155</td>  <td>69.7159</td> <td>0.0000</td>  <td>1219.4950</td>  <td>1292.4359</td>\n",
       "</tr>\n",
       "</table>\n",
       "<table class=\"simpletable\">\n",
       "<tr>\n",
       "     <td>Omnibus:</td>    <td>7.891</td>  <td>Durbin-Watson:</td>   <td>2.102</td>\n",
       "</tr>\n",
       "<tr>\n",
       "  <td>Prob(Omnibus):</td> <td>0.019</td> <td>Jarque-Bera (JB):</td> <td>6.327</td>\n",
       "</tr>\n",
       "<tr>\n",
       "       <td>Skew:</td>     <td>0.862</td>     <td>Prob(JB):</td>     <td>0.042</td>\n",
       "</tr>\n",
       "<tr>\n",
       "     <td>Kurtosis:</td>   <td>2.093</td>  <td>Condition No.:</td>    <td>413</td> \n",
       "</tr>\n",
       "</table>"
      ],
      "text/plain": [
       "<class 'statsmodels.iolib.summary2.Summary'>\n",
       "\"\"\"\n",
       "                        Results: Ordinary least squares\n",
       "================================================================================\n",
       "Model:                   OLS                  Adj. R-squared:         0.992     \n",
       "Dependent Variable:      Salary               AIC:                    678.6997  \n",
       "Date:                    2022-04-04 22:27     BIC:                    682.0775  \n",
       "No. Observations:        40                   Log-Likelihood:         -337.35   \n",
       "Df Model:                1                    F-statistic:            4860.     \n",
       "Df Residuals:            38                   Prob (F-statistic):     1.04e-41  \n",
       "R-squared:               0.992                Scale:                  1.3040e+06\n",
       "--------------------------------------------------------------------------------\n",
       "                         Coef.     Std.Err.    t    P>|t|    [0.025     0.975]  \n",
       "--------------------------------------------------------------------------------\n",
       "const                  13051.7395 1159.2202 11.2591 0.0000 10705.0209 15398.4580\n",
       "Percentage in Grade 10  1255.9654   18.0155 69.7159 0.0000  1219.4950  1292.4359\n",
       "--------------------------------------------------------------------------------\n",
       "Omnibus:                   7.891             Durbin-Watson:                2.102\n",
       "Prob(Omnibus):             0.019             Jarque-Bera (JB):             6.327\n",
       "Skew:                      0.862             Prob(JB):                     0.042\n",
       "Kurtosis:                  2.093             Condition No.:                413  \n",
       "================================================================================\n",
       "\n",
       "\"\"\""
      ]
     },
     "execution_count": 4,
     "metadata": {},
     "output_type": "execute_result"
    }
   ],
   "source": [
    "mba_salary_lm.summary2()\n"
   ]
  },
  {
   "cell_type": "code",
   "execution_count": 5,
   "metadata": {},
   "outputs": [
    {
     "data": {
      "text/plain": [
       "<Figure size 576x432 with 0 Axes>"
      ]
     },
     "metadata": {},
     "output_type": "display_data"
    },
    {
     "data": {
      "image/png": "[encoded data removed]",
      "text/plain": [
       "<Figure size 432x288 with 1 Axes>"
      ]
     },
     "metadata": {
      "needs_background": "light"
     },
     "output_type": "display_data"
    }
   ],
   "source": [
    "import matplotlib.pyplot as plt\n",
    "import seaborn as sn\n",
    "\n",
    "mba_salary_resid = mba_salary_lm.resid\n",
    "probplot = sm.ProbPlot(mba_salary_resid, fit=True)\n",
    "plt.figure(figsize=(8, 6))\n",
    "probplot.ppplot(line='s')\n",
    "plt.title(\"Normal P-P Plot of Regression Standardized Residuals\")\n",
    "plt.show()\n"
   ]
  }
 ],
 "metadata": {
  "interpreter": {
   "hash": "31f2aee4e71d21fbe5cf8b01ff0e069b9275f58929596ceb00d14d90e3e16cd6"
  },
  "kernelspec": {
   "display_name": "Python 3 (ipykernel)",
   "language": "python",
   "name": "python3"
  },
  "language_info": {
   "codemirror_mode": {
    "name": "ipython",
    "version": 3
   },
   "file_extension": ".py",
   "mimetype": "text/x-python",
   "name": "python",
   "nbconvert_exporter": "python",
   "pygments_lexer": "ipython3",
   "version": "3.9.7"
  }
 },
 "nbformat": 4,
 "nbformat_minor": 2
}
